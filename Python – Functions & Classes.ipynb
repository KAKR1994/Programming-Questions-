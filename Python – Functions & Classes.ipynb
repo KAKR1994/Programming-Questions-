{
 "cells": [
  {
   "cell_type": "markdown",
   "id": "37d5b5a7",
   "metadata": {},
   "source": [
    "1. Reverse a given list in Python\n",
    "    list1 = [100, 200, 300, 400, 500]\n",
    "    Expected output: [500, 400, 300, 200, 100]\n"
   ]
  },
  {
   "cell_type": "code",
   "execution_count": 1,
   "id": "2e4195b7",
   "metadata": {},
   "outputs": [
    {
     "name": "stdout",
     "output_type": "stream",
     "text": [
      "[500, 400, 300, 200, 100]\n"
     ]
    }
   ],
   "source": [
    "list1 = [100, 200, 300, 400, 500]\n",
    "list1.reverse()\n",
    "print(list1)"
   ]
  },
  {
   "cell_type": "markdown",
   "id": "536918c6",
   "metadata": {},
   "source": [
    "2. Concatenate two lists index-wise\n",
    "     list1 = [\"M\", \"na\", \"i\", \"Ke\"]\n",
    "     list2 = [\"y\", \"me\", \"s\", \"lly\"]\n",
    "     Expected output: ['My', 'name', 'is', 'Kelly']\n"
   ]
  },
  {
   "cell_type": "code",
   "execution_count": 2,
   "id": "f2cf44db",
   "metadata": {},
   "outputs": [
    {
     "name": "stdout",
     "output_type": "stream",
     "text": [
      "['My', 'name', 'is', 'Kelly']\n"
     ]
    }
   ],
   "source": [
    "list1 = [\"M\", \"na\", \"i\", \"Ke\"]\n",
    "list2 = [\"y\", \"me\", \"s\", \"lly\"]\n",
    "list3 = [i + j for i, j in zip(list1, list2)]\n",
    "print(list3)"
   ]
  },
  {
   "cell_type": "markdown",
   "id": "f31d8b94",
   "metadata": {},
   "source": [
    "3. Given a two Python list. Iterate both lists simultaneously such that list1 should display item in original order and list2 in reverse order\n",
    "    list1 = [10, 20, 30, 40]\n",
    "    list2 = [100, 200, 300, 400]\n",
    "   Expected output:  \n",
    "           10 400\n",
    "20 300\n",
    "30 200\n",
    "40 100\n"
   ]
  },
  {
   "cell_type": "code",
   "execution_count": 3,
   "id": "566f1d40",
   "metadata": {},
   "outputs": [
    {
     "name": "stdout",
     "output_type": "stream",
     "text": [
      "10 400\n",
      "20 300\n",
      "30 200\n",
      "40 100\n"
     ]
    }
   ],
   "source": [
    "list1 = [10, 20, 30, 40]\n",
    "list2 = [100, 200, 300, 400]\n",
    "list2.reverse()\n",
    "for i,j in zip(list1,list2):\n",
    "    print(i,j)"
   ]
  },
  {
   "cell_type": "markdown",
   "id": "e0f5ae7b",
   "metadata": {},
   "source": [
    "4. Remove empty strings from the list of strings\n",
    "          list1 = [\"Mike\", \"\", \"Emma\", \"Kelly\", \"\", \"Brad\"]\n"
   ]
  },
  {
   "cell_type": "code",
   "execution_count": 4,
   "id": "5a507823",
   "metadata": {},
   "outputs": [
    {
     "data": {
      "text/plain": [
       "''"
      ]
     },
     "execution_count": 4,
     "metadata": {},
     "output_type": "execute_result"
    }
   ],
   "source": [
    "list1 = [\"Mike\", \"\", \"Emma\", \"Kelly\", \"\", \"Brad\"]\n",
    "list1.pop(1)"
   ]
  },
  {
   "cell_type": "code",
   "execution_count": 8,
   "id": "e15c56be",
   "metadata": {},
   "outputs": [
    {
     "data": {
      "text/plain": [
       "''"
      ]
     },
     "execution_count": 8,
     "metadata": {},
     "output_type": "execute_result"
    }
   ],
   "source": [
    "list1 = [\"Mike\", \"\", \"Emma\", \"Kelly\", \"\", \"Brad\"]\n",
    "list1.pop(1)"
   ]
  },
  {
   "cell_type": "code",
   "execution_count": 9,
   "id": "39680e32",
   "metadata": {},
   "outputs": [
    {
     "data": {
      "text/plain": [
       "['Mike', 'Emma', 'Kelly', '', 'Brad']"
      ]
     },
     "execution_count": 9,
     "metadata": {},
     "output_type": "execute_result"
    }
   ],
   "source": [
    "list1"
   ]
  },
  {
   "cell_type": "code",
   "execution_count": 10,
   "id": "cea80aba",
   "metadata": {},
   "outputs": [
    {
     "data": {
      "text/plain": [
       "['Mike', 'Emma', 'Kelly', 'Brad']"
      ]
     },
     "execution_count": 10,
     "metadata": {},
     "output_type": "execute_result"
    }
   ],
   "source": [
    "list1.pop(3)\n",
    "list1"
   ]
  },
  {
   "cell_type": "markdown",
   "id": "3da6079a",
   "metadata": {},
   "source": [
    "5. Below are the two lists convert it into the dictionary\n",
    "        keys = ['Ten', 'Twenty', 'Thirty']\n",
    "        values = [10, 20, 30]\n",
    "        Expected output: {'Ten': 10, 'Twenty': 20, 'Thirty': 30}\n"
   ]
  },
  {
   "cell_type": "code",
   "execution_count": 4,
   "id": "b2ba7395",
   "metadata": {},
   "outputs": [
    {
     "name": "stdout",
     "output_type": "stream",
     "text": [
      "{'Ten': 10, 'Twenty': 20, 'Thirty': 30}\n"
     ]
    }
   ],
   "source": [
    "keys = ['Ten', 'Twenty', 'Thirty']\n",
    "values = [10, 20, 30]\n",
    "dict=dict(zip(keys,values))\n",
    "print(dict)"
   ]
  },
  {
   "cell_type": "markdown",
   "id": "b53bf167",
   "metadata": {},
   "source": [
    "6. Merge following two Python dictionaries into one\n",
    "   dict1 = {'Ten': 10, 'Twenty': 20, 'Thirty': 30}\n",
    "    dict2 = {'Thirty': 30, 'Fourty': 40, 'Fifty': 50}\n",
    "     Expected output: {'Ten': 10, 'Twenty': 20, 'Thirty': 30, 'Fourty': 40, 'Fifty': 50}\n",
    "\n"
   ]
  },
  {
   "cell_type": "code",
   "execution_count": 8,
   "id": "def5fe01",
   "metadata": {},
   "outputs": [
    {
     "name": "stdout",
     "output_type": "stream",
     "text": [
      "{'Ten': 10, 'Twenty': 20, 'Thirty': 30, 'Fourty': 40, 'Fifty': 50}\n",
      "{'Ten': 10, 'Twenty': 20, 'Thirty': 30, 'Fourty': 40, 'Fifty': 50}\n"
     ]
    }
   ],
   "source": [
    "dict1 = {'Ten': 10, 'Twenty': 20, 'Thirty': 30}\n",
    "dict2 = {'Thirty': 30, 'Fourty': 40, 'Fifty': 50}\n",
    "dict3={}\n",
    "\n",
    "# update method\n",
    "dict3.update(dict1)\n",
    "dict3.update(dict2)\n",
    "print(dict3)\n",
    "\n",
    "# unpacking method\n",
    "dict4={}\n",
    "dict4={**dict1,**dict2}\n",
    "print(dict4)\n"
   ]
  },
  {
   "cell_type": "markdown",
   "id": "79e02e51",
   "metadata": {},
   "source": [
    "7. Access the value of key ‘history’ from the below\n",
    "sampleDict = {\n",
    "\"class\":{\n",
    "\"student\":{\n",
    "\"name\":\"Mike\",\n",
    "\"marks\":{\n",
    "\"physics\":70,\n",
    "\"history\":80\n",
    "}\n",
    "}\n",
    "}\n",
    "}\n",
    "Expected output: 80\n"
   ]
  },
  {
   "cell_type": "code",
   "execution_count": 10,
   "id": "a522c5fe",
   "metadata": {},
   "outputs": [
    {
     "name": "stdout",
     "output_type": "stream",
     "text": [
      "80\n"
     ]
    }
   ],
   "source": [
    "sampleDict = {\n",
    "    \"class\": {\n",
    "        \"student\": {\n",
    "            \"name\": \"Mike\",\n",
    "            \"marks\": {\n",
    "                \"physics\": 70,\n",
    "                \"history\": 80\n",
    "            }\n",
    "        }\n",
    "    }\n",
    "}\n",
    "print(sampleDict['class']['student']['marks']['history'])"
   ]
  },
  {
   "cell_type": "code",
   "execution_count": null,
   "id": "46d034fc",
   "metadata": {},
   "outputs": [],
   "source": []
  }
 ],
 "metadata": {
  "kernelspec": {
   "display_name": "Python 3 (ipykernel)",
   "language": "python",
   "name": "python3"
  },
  "language_info": {
   "codemirror_mode": {
    "name": "ipython",
    "version": 3
   },
   "file_extension": ".py",
   "mimetype": "text/x-python",
   "name": "python",
   "nbconvert_exporter": "python",
   "pygments_lexer": "ipython3",
   "version": "3.9.7"
  }
 },
 "nbformat": 4,
 "nbformat_minor": 5
}
