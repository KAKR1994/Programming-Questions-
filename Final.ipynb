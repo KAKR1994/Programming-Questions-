{
 "cells": [
  {
   "cell_type": "markdown",
   "id": "d401d33f",
   "metadata": {},
   "source": [
    "1. \tWith a given integral number n, write a program to generate a dictionary that contains (i, i*i) such that is an integral number between 1 and n (both included). and then the program should print the dictionary.\n",
    "Suppose the following input is supplied to the program:\n",
    "8\n",
    "Then, the output should be:\n",
    "{1: 1, 2: 4, 3: 9, 4: 16, 5: 25, 6: 36, 7: 49, 8: 64}\n"
   ]
  },
  {
   "cell_type": "code",
   "execution_count": 2,
   "id": "a084cf10",
   "metadata": {},
   "outputs": [
    {
     "name": "stdout",
     "output_type": "stream",
     "text": [
      "Enter a number:8\n",
      "{1: 1, 2: 4, 3: 9, 4: 16, 5: 25, 6: 36, 7: 49, 8: 64}\n"
     ]
    }
   ],
   "source": [
    "a=int(input(\"Enter a number:\"))\n",
    "b={x:x*x for x in range(1,a+1)}\n",
    "print(b)"
   ]
  },
  {
   "cell_type": "markdown",
   "id": "c03064a9",
   "metadata": {},
   "source": [
    "3.\tWrite a program that computes the value of a+aa+aaa with a given digit as the value of a.\n",
    "Suppose the following input is supplied to the program:\n",
    "3\n",
    "Then, the output should be:\n",
    "369"
   ]
  },
  {
   "cell_type": "code",
   "execution_count": 3,
   "id": "b5fc9736",
   "metadata": {},
   "outputs": [
    {
     "name": "stdout",
     "output_type": "stream",
     "text": [
      "Enter a numner: 3\n",
      "369\n"
     ]
    }
   ],
   "source": [
    "num = input(\"Enter a numner: \")\n",
    "\n",
    "a1 = num * 1\n",
    "a2 = num * 2\n",
    "a3 = num * 3\n",
    "\n",
    "total = int(a1) + int(a2) + int(a3)\n",
    "print(total)"
   ]
  },
  {
   "cell_type": "markdown",
   "id": "9f469465",
   "metadata": {},
   "source": [
    "4.Write the following: a. Program to Add Two Matrices b. Program to Transpose a Matrix c. Program to Multiply Two Matrices"
   ]
  },
  {
   "cell_type": "code",
   "execution_count": 4,
   "id": "9cbfa48b",
   "metadata": {},
   "outputs": [
    {
     "name": "stdout",
     "output_type": "stream",
     "text": [
      "[5, 4, 4]\n",
      "[11, 14, 9]\n",
      "[15, 13, 15]\n"
     ]
    }
   ],
   "source": [
    "# Add of two matrices\n",
    "\n",
    "X = [[1,2,3],\n",
    "    [4 ,5,6],\n",
    "    [7 ,8,9]]\n",
    "\n",
    "Y = [[4,2,1],\n",
    "    [7,9,3],\n",
    "    [8,5,6]]\n",
    "\n",
    "result = [[X[i][j] + Y[i][j]  for j in range(len(X[0]))] for i in range(len(X))]\n",
    "\n",
    "for r in result:\n",
    "   print(r)"
   ]
  },
  {
   "cell_type": "code",
   "execution_count": 5,
   "id": "f6afdab7",
   "metadata": {},
   "outputs": [
    {
     "name": "stdout",
     "output_type": "stream",
     "text": [
      "[1, 3, 5]\n",
      "[2, 4, 6]\n"
     ]
    }
   ],
   "source": [
    "# Program of Transpose Matrix\n",
    "\n",
    "X = [[1,2],\n",
    "    [3,4],\n",
    "    [5,6]]\n",
    "\n",
    "result = [[X[j][i] for j in range(len(X))] for i in range(len(X[0]))]\n",
    "\n",
    "for r in result:\n",
    "   print(r)"
   ]
  },
  {
   "cell_type": "code",
   "execution_count": 6,
   "id": "7052552d",
   "metadata": {},
   "outputs": [
    {
     "name": "stdout",
     "output_type": "stream",
     "text": [
      "[42, 35, 25]\n",
      "[99, 83, 55]\n",
      "[156, 131, 85]\n"
     ]
    }
   ],
   "source": [
    "# Multiply Two matrices\n",
    "\n",
    "X = [[1,2,3],\n",
    "    [4 ,5,6],\n",
    "    [7 ,8,9]]\n",
    "\n",
    "Y = [[4,2,1],\n",
    "    [7,9,3],\n",
    "    [8,5,6]]\n",
    "\n",
    "result = [[sum(a*b for a,b in zip(X_row,Y_col)) for Y_col in zip(*Y)] for X_row in X]\n",
    "\n",
    "for r in result:\n",
    "   print(r)"
   ]
  },
  {
   "cell_type": "markdown",
   "id": "690800d4",
   "metadata": {},
   "source": [
    "5. Please write a program which count and print the numbers of each character in a string input by console. Ex:aabc o/p -> a:2,b:1,c:1"
   ]
  },
  {
   "cell_type": "code",
   "execution_count": 7,
   "id": "39be3194",
   "metadata": {},
   "outputs": [
    {
     "name": "stdout",
     "output_type": "stream",
     "text": [
      "{'a': 2, 'b': 1, 'c': 1}\n"
     ]
    }
   ],
   "source": [
    "def char(str):\n",
    "    dict = {}\n",
    "    for n in str:\n",
    "        keys = dict.keys()\n",
    "        if n in keys:\n",
    "            dict[n] += 1\n",
    "        else:\n",
    "            dict[n] = 1\n",
    "    return dict\n",
    "print(char('aabc'))"
   ]
  },
  {
   "cell_type": "markdown",
   "id": "80901948",
   "metadata": {},
   "source": [
    "10.Given numRows = 5,.\n",
    "\n",
    "Generate A[C] in row R, sum up A’[C] and A’[C-1] from previous row R - 1 [ [1], [1,1], [1,2,1], [1,3,3,1], [1,4,6,4,1] ]"
   ]
  },
  {
   "cell_type": "code",
   "execution_count": 8,
   "id": "c8c35b8a",
   "metadata": {},
   "outputs": [
    {
     "name": "stdout",
     "output_type": "stream",
     "text": [
      "      1 \n",
      "     1 1 \n",
      "    1 2 1 \n",
      "   1 3 3 1 \n",
      "  1 4 6 4 1 \n"
     ]
    }
   ],
   "source": [
    "from math import factorial\n",
    " \n",
    "a = 5\n",
    "for i in range(a):\n",
    "    for j in range(a-i+1):\n",
    " \n",
    "        print(end=\" \")\n",
    " \n",
    "    for j in range(i+1):\n",
    " \n",
    "        print(factorial(i)//(factorial(j)*factorial(i-j)), end=\" \")\n",
    " \n",
    "    \n",
    "    print()"
   ]
  },
  {
   "cell_type": "markdown",
   "id": "b32c1002",
   "metadata": {},
   "source": [
    "15. convert a decimal number to binary using recursion.\n",
    "    Ex: 3 \n",
    "    Ans : 11"
   ]
  },
  {
   "cell_type": "code",
   "execution_count": 12,
   "id": "cb3145da",
   "metadata": {},
   "outputs": [
    {
     "name": "stdout",
     "output_type": "stream",
     "text": [
      "011"
     ]
    }
   ],
   "source": [
    "def DecimalToBinary(num):\n",
    "     \n",
    "    if num >= 1:\n",
    "        DecimalToBinary(num // 2)\n",
    "    print(num % 2, end = '')\n",
    " \n",
    "if __name__ == '__main__':\n",
    "     \n",
    "    dec_val = 3\n",
    "     \n",
    "    \n",
    "    DecimalToBinary(dec_val)"
   ]
  },
  {
   "cell_type": "code",
   "execution_count": null,
   "id": "d8fd39c6",
   "metadata": {},
   "outputs": [],
   "source": []
  }
 ],
 "metadata": {
  "kernelspec": {
   "display_name": "Python 3 (ipykernel)",
   "language": "python",
   "name": "python3"
  },
  "language_info": {
   "codemirror_mode": {
    "name": "ipython",
    "version": 3
   },
   "file_extension": ".py",
   "mimetype": "text/x-python",
   "name": "python",
   "nbconvert_exporter": "python",
   "pygments_lexer": "ipython3",
   "version": "3.9.7"
  }
 },
 "nbformat": 4,
 "nbformat_minor": 5
}
